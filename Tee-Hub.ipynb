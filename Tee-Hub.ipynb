{
    "cells": [
        {
            "cell_type": "markdown",
            "metadata": {
                "collapsed": true
            },
            "source": "# My Jupyter Notebook on IBM Watson Studio "
        },
        {
            "cell_type": "markdown",
            "metadata": {},
            "source": "Name - Afolabi Tolulope Irapada\n\nDesired Occupation - Data Scientist/Analyst"
        },
        {
            "cell_type": "markdown",
            "metadata": {},
            "source": "I am interested in data science because of its diversity in solving world industrial/organizational problems."
        },
        {
            "cell_type": "code",
            "execution_count": 6,
            "metadata": {},
            "outputs": [
                {
                    "data": {
                        "text/plain": "36"
                    },
                    "execution_count": 6,
                    "metadata": {},
                    "output_type": "execute_result"
                }
            ],
            "source": "# Multiplication, Addition, Substraction, and Division\n\n4*9"
        },
        {
            "cell_type": "code",
            "execution_count": 3,
            "metadata": {},
            "outputs": [
                {
                    "data": {
                        "text/plain": "58"
                    },
                    "execution_count": 3,
                    "metadata": {},
                    "output_type": "execute_result"
                }
            ],
            "source": "52+6"
        },
        {
            "cell_type": "code",
            "execution_count": 4,
            "metadata": {},
            "outputs": [
                {
                    "data": {
                        "text/plain": "-73"
                    },
                    "execution_count": 4,
                    "metadata": {},
                    "output_type": "execute_result"
                }
            ],
            "source": "1950-2023"
        },
        {
            "cell_type": "code",
            "execution_count": 5,
            "metadata": {},
            "outputs": [
                {
                    "data": {
                        "text/plain": "30.416666666666668"
                    },
                    "execution_count": 5,
                    "metadata": {},
                    "output_type": "execute_result"
                }
            ],
            "source": "365/12"
        },
        {
            "cell_type": "markdown",
            "metadata": {},
            "source": "## My Industry Target\n\n* Education\n* Agriculture\n* **Health**\n* Finance"
        },
        {
            "cell_type": "markdown",
            "metadata": {},
            "source": "### My Core Vales are:\n\n1. Intergrity\n2. Faithfulness\n3. **Dilligence**"
        },
        {
            "cell_type": "markdown",
            "metadata": {},
            "source": "|Names of Poultry Birds|\n|----------------------|\n|Hen|\n|Turkey|\n|Pigeon|\n|Quail|\n"
        },
        {
            "cell_type": "markdown",
            "metadata": {},
            "source": "54 gene is one of my targeted pharmaceutical company"
        },
        {
            "cell_type": "markdown",
            "metadata": {},
            "source": "[54gene pharmaceutical logo] {https://encrypted-tbn0.gstatic.com/images?q=tbn:ANd9GcStTktszcIlJlrIILHuIK_nsWVCoMG48_3_BTntKnSr0miYOBp7pxQNfwPJbhByyrcNGY4&usqp=CAU}"
        },
        {
            "cell_type": "markdown",
            "metadata": {},
            "source": "<54gene company link> {https://54gene.com/}"
        },
        {
            "cell_type": "code",
            "execution_count": null,
            "metadata": {},
            "outputs": [],
            "source": ""
        }
    ],
    "metadata": {
        "kernelspec": {
            "display_name": "Python 3.10",
            "language": "python",
            "name": "python3"
        },
        "language_info": {
            "codemirror_mode": {
                "name": "ipython",
                "version": 3
            },
            "file_extension": ".py",
            "mimetype": "text/x-python",
            "name": "python",
            "nbconvert_exporter": "python",
            "pygments_lexer": "ipython3",
            "version": "3.10.9"
        }
    },
    "nbformat": 4,
    "nbformat_minor": 1
}